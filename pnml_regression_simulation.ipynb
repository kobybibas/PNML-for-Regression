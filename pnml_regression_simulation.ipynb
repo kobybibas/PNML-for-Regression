{
 "cells": [
  {
   "cell_type": "code",
   "execution_count": 1,
   "metadata": {},
   "outputs": [],
   "source": [
    "import numpy as np\n",
    "import matplotlib.pyplot as plt"
   ]
  },
  {
   "cell_type": "markdown",
   "metadata": {},
   "source": [
    "# Generate the data\n",
    "create random points in the interval [-1, 1]"
   ]
  },
  {
   "cell_type": "code",
   "execution_count": 20,
   "metadata": {},
   "outputs": [
    {
     "data": {
      "image/png": "[encoded data removed]",
      "text/plain": [
       "<Figure size 432x288 with 1 Axes>"
      ]
     },
     "metadata": {},
     "output_type": "display_data"
    }
   ],
   "source": [
    "# number of data point to train on\n",
    "point_num = 5\n",
    "\n",
    "# Polynom degree to fit\n",
    "poly_degree = 2\n",
    "\n",
    "# generate the points (x,y)\n",
    "point_x = np.random.uniform(low=-1.0, high=1.0, size=point_num)\n",
    "point_y = np.random.uniform(low=-1.0, high=1.0, size=point_num)\n",
    "\n",
    "plt.scatter(point_x, point_y)\n",
    "plt.grid()\n",
    "plt.ylabel('labels')\n",
    "plt.xlabel('data')\n",
    "plt.show()"
   ]
  },
  {
   "cell_type": "markdown",
   "metadata": {},
   "source": [
    "create data matrix\n",
    "$X = \\begin{bmatrix}\n",
    "    1       & 1 & 1 & \\dots & 1\\\\\n",
    "    x_1       & x_{2} & x_{3} & \\dots & x_{point\\_num} \\\\\n",
    "     \\vdots & \\vdots  & \\vdots  & \\dots & \\vdots\\\\\n",
    "    x_{1}^{poly\\_degree}     & x_{2}^{poly\\_degree} & x_{3}^{poly\\_degree} & \\dots & x_{point\\_num}^{poly\\_degree}\n",
    "\\end{bmatrix}$\n",
    "\n",
    "$y= X^T \\theta + e$"
   ]
  },
  {
   "cell_type": "code",
   "execution_count": 33,
   "metadata": {},
   "outputs": [
    {
     "name": "stdout",
     "output_type": "stream",
     "text": [
      "[[ 1.          1.          1.          1.          1.        ]\n",
      " [-0.52506842  0.44376063 -0.40268575  0.31613542  0.21199809]\n",
      " [ 0.27569684  0.1969235   0.16215581  0.0999416   0.04494319]]\n"
     ]
    }
   ],
   "source": [
    "X = []\n",
    "for n in range(pol_degree+ 1):\n",
    "    X.append(point_x**n)\n",
    "X = np.asarray(X)\n",
    "print(X)"
   ]
  },
  {
   "cell_type": "markdown",
   "metadata": {},
   "source": [
    "# Calculate the regret\n",
    "Estimate the polynom constan values\n",
    "\n",
    "Estimator:\n",
    "$Q(y_N)=\\frac{1 - x_N^T (XX^T)^{-1} x_N }{\\sqrt[]{2\\pi\\sigma^2}}\n",
    "exp\\bigg\\{-\\frac{(1 - x_N^T (XX^T)^{-1} x_N )^2 }{2\\sigma^2}\\bigg(y_N-x_N^T \\theta^*_{N-1} \\bigg)^2\\bigg\\} $\n",
    "\n",
    "Regret:\n",
    "$ log(\\Gamma) = -log(1 - x_N^T (XX^T)^{-1} x_N) $"
   ]
  },
  {
   "cell_type": "code",
   "execution_count": 62,
   "metadata": {},
   "outputs": [
    {
     "name": "stdout",
     "output_type": "stream",
     "text": [
      "[[-25.28579797]]\n",
      "[[-22.73906563]]\n",
      "[[-20.37548024]]\n",
      "[[-18.18663195]]\n",
      "[[-16.16429697]]\n",
      "[[-14.30043764]]\n",
      "[[-12.58720236]]\n",
      "[[-11.01692564]]\n",
      "[[-9.5821281]]\n",
      "[[-8.27551643]]\n",
      "[[-7.08998341]]\n",
      "[[-6.01860795]]\n",
      "[[-5.05465502]]\n",
      "[[-4.1915757]]\n",
      "[[-3.42300716]]\n",
      "[[-2.74277267]]\n",
      "[[-2.14488158]]\n",
      "[[-1.62352935]]\n",
      "[[-1.17309752]]\n",
      "[[-0.78815375]]\n",
      "[[-0.46345177]]\n",
      "[[-0.1939314]]\n",
      "[[0.02528142]]\n",
      "[[0.19887467]]\n",
      "[[0.33135025]]\n",
      "[[0.42702393]]\n",
      "[[0.49002542]]\n",
      "[[0.52429832]]\n",
      "[[0.53360013]]\n",
      "[[0.52150227]]\n",
      "[[0.49139007]]\n",
      "[[0.44646273]]\n",
      "[[0.3897334]]\n",
      "[[0.3240291]]\n",
      "[[0.25199079]]\n",
      "[[0.1760733]]\n",
      "[[0.09854539]]\n",
      "[[0.02148971]]\n",
      "[[-0.05319716]]\n",
      "[[-0.12380476]]\n",
      "[[-0.18880872]]\n",
      "[[-0.24687076]]\n",
      "[[-0.29683868]]\n",
      "[[-0.3377464]]\n",
      "[[-0.36881391]]\n",
      "[[-0.38944733]]\n",
      "[[-0.39923883]]\n",
      "[[-0.3979667]]\n",
      "[[-0.38559533]]\n",
      "[[-0.36227519]]\n",
      "[[-0.32834285]]\n",
      "[[-0.28432096]]\n",
      "[[-0.2309183]]\n",
      "[[-0.1690297]]\n",
      "[[-0.09973612]]\n",
      "[[-0.0243046]]\n",
      "[[0.05581172]]\n",
      "[[0.13897363]]\n",
      "[[0.22335578]]\n",
      "[[0.30694677]]\n",
      "[[0.38754909]]\n",
      "[[0.46277911]]\n",
      "[[0.53006715]]\n",
      "[[0.5866574]]\n",
      "[[0.62960798]]\n",
      "[[0.65579091]]\n",
      "[[0.66189209]]\n",
      "[[0.64441136]]\n",
      "[[0.59966245]]\n",
      "[[0.523773]]\n",
      "[[0.41268455]]\n",
      "[[0.26215256]]\n",
      "[[0.06774636]]\n",
      "[[-0.17515077]]\n",
      "[[-0.47134167]]\n",
      "[[-0.82581527]]\n",
      "[[-1.24374659]]\n",
      "[[-1.73049675]]\n",
      "[[-2.29161296]]\n",
      "[[-2.93282853]]\n",
      "[[-3.66006286]]\n",
      "[[-4.47942144]]\n",
      "[[-5.39719586]]\n",
      "[[-6.41986381]]\n",
      "[[-7.55408906]]\n",
      "[[-8.8067215]]\n",
      "[[-10.18479707]]\n",
      "[[-11.69553786]]\n",
      "[[-13.346352]]\n",
      "[[-15.14483376]]\n",
      "[[-17.09876347]]\n",
      "[[-19.21610758]]\n",
      "[[-21.50501861]]\n",
      "[[-23.97383521]]\n",
      "[[-26.63108208]]\n",
      "[[-29.48547005]]\n",
      "[[-32.54589602]]\n",
      "[[-35.82144301]]\n",
      "[[-39.32138011]]\n",
      "[[-43.05516251]]\n"
     ]
    },
    {
     "name": "stderr",
     "output_type": "stream",
     "text": [
      "/Users/kobibi/anaconda3/envs/pt36/lib/python3.6/site-packages/ipykernel/__main__.py:11: RuntimeWarning: invalid value encountered in log10\n"
     ]
    }
   ],
   "source": [
    "test_samples = np.linspace(-1, 1, 100)[:, np.newaxis]\n",
    "for x_n in test_samples.tolist():\n",
    "    temp = []\n",
    "    for n in range(pol_degree + 1):\n",
    "        temp.append(np.array(x_n)**n)\n",
    "    x_n = np.asarray(temp)\n",
    "\n",
    "\n",
    "    xxt_inv = np.linalg.inv(np.matmul(X,X.transpose()))\n",
    "    gamma = 1- np.matmul(np.matmul(x_n.transpose(), xxt_inv), x_n)\n",
    "    regret = -np.log10(gamma)\n",
    "    print(gamma)"
   ]
  },
  {
   "cell_type": "code",
   "execution_count": 59,
   "metadata": {},
   "outputs": [
    {
     "data": {
      "text/plain": [
       "array([[1.],\n",
       "       [1.],\n",
       "       [1.]])"
      ]
     },
     "execution_count": 59,
     "metadata": {},
     "output_type": "execute_result"
    }
   ],
   "source": [
    "x_n"
   ]
  },
  {
   "cell_type": "code",
   "execution_count": 49,
   "metadata": {},
   "outputs": [
    {
     "name": "stdout",
     "output_type": "stream",
     "text": [
      "(3, 3)\n"
     ]
    }
   ],
   "source": [
    "print(xxt_inv.shape)"
   ]
  },
  {
   "cell_type": "code",
   "execution_count": null,
   "metadata": {},
   "outputs": [],
   "source": []
  }
 ],
 "metadata": {
  "kernelspec": {
   "display_name": "Python [conda env:pt36]",
   "language": "python",
   "name": "conda-env-pt36-py"
  },
  "language_info": {
   "codemirror_mode": {
    "name": "ipython",
    "version": 3
   },
   "file_extension": ".py",
   "mimetype": "text/x-python",
   "name": "python",
   "nbconvert_exporter": "python",
   "pygments_lexer": "ipython3",
   "version": "3.6.5"
  }
 },
 "nbformat": 4,
 "nbformat_minor": 2
}
